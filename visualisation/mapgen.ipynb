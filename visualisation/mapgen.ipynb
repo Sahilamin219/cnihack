{
 "cells": [
  {
   "cell_type": "code",
   "execution_count": null,
   "metadata": {},
   "outputs": [],
   "source": [
    "import sys\n",
    "'geopandas' in sys.modules"
   ]
  },
  {
   "cell_type": "code",
   "execution_count": null,
   "metadata": {
    "tags": []
   },
   "outputs": [],
   "source": [
    "!pip3 install geopandas"
   ]
  },
  {
   "cell_type": "code",
   "execution_count": null,
   "metadata": {},
   "outputs": [],
   "source": [
    "import pandas as pd\n",
    "import geopandas as gpd\n",
    "import geoplot as gplt\n",
    "from geopy.distance import geodesic\n",
    "from shapely.geometry import Point, LineString, shape\n",
    "import matplotlib.pyplot as plt"
   ]
  },
  {
   "cell_type": "code",
   "execution_count": null,
   "metadata": {
    "tags": []
   },
   "outputs": [],
   "source": [
    "fp = r'india-polygon.shp'\n",
    "map_df = gpd.read_file(fp)\n",
    "map_df = map_df.loc[map_df['st_nm'] == 'Karnataka']\n",
    "print(map_df)"
   ]
  },
  {
   "cell_type": "code",
   "execution_count": null,
   "metadata": {},
   "outputs": [],
   "source": [
    "data_df = pd.read_csv('../data/lab_data_v0.csv')\n",
    "data_df.head()"
   ]
  },
  {
   "cell_type": "code",
   "execution_count": null,
   "metadata": {},
   "outputs": [],
   "source": [
    "data_df.drop(data_df.columns.difference(['lat', 'lon', 'id', 'district_id']), 1, inplace=True)\n",
    "data_df.head()"
   ]
  },
  {
   "cell_type": "code",
   "execution_count": null,
   "metadata": {},
   "outputs": [],
   "source": [
    "gdf = gpd.GeoDataFrame(data_df, geometry=gpd.points_from_xy(data_df.lon, data_df.lat))\n",
    "gdf.head()"
   ]
  },
  {
   "cell_type": "code",
   "execution_count": null,
   "metadata": {},
   "outputs": [],
   "source": [
    "ax = gplt.polyplot(map_df)\n",
    "gplt.pointplot(gdf, ax=ax)"
   ]
  },
  {
   "cell_type": "code",
   "execution_count": null,
   "metadata": {},
   "outputs": [],
   "source": [
    "gdf.head()"
   ]
  },
  {
   "cell_type": "code",
   "execution_count": null,
   "metadata": {},
   "outputs": [],
   "source": [
    "district_df = gpd.read_file('c44c9b96-f570-4ee3-97f1-ebad64efa4c2202044-1-1rb4x6s.8xx6.shp')\n",
    "district_df.head()"
   ]
  },
  {
   "cell_type": "code",
   "execution_count": null,
   "metadata": {},
   "outputs": [],
   "source": [
    "district_df = district_df.loc[district_df['statename' ] == 'KARNATAKA']\n",
    "district_df.head()"
   ]
  },
  {
   "cell_type": "code",
   "execution_count": null,
   "metadata": {},
   "outputs": [],
   "source": [
    "gdf_hq = pd.read_csv('../data/districts_data_v0.csv')\n",
    "gdf_hq = gpd.GeoDataFrame(gdf_hq, geometry=gpd.points_from_xy(gdf_hq.lon, gdf_hq.lat))\n",
    "gdf_hq.head()"
   ]
  },
  {
   "cell_type": "code",
   "execution_count": null,
   "metadata": {
    "tags": []
   },
   "outputs": [],
   "source": [
    "fz = open('transactions.out')\n",
    "data = []\n",
    "x2 = gpd.GeoDataFrame({'geometry': []})\n",
    "rec = gpd.GeoDataFrame({'geometry': []})\n",
    "for line in fz:\n",
    "    a, b, c, d = [int(x) for x in line.split()]\n",
    "    if d == 0:\n",
    "        continue\n",
    "    if a == 0:\n",
    "        for _, row in gdf_hq.iterrows():\n",
    "            if row['district_id'] != b:\n",
    "                continue\n",
    "            for _, row2 in gdf.iterrows():\n",
    "                if row2['id'] != c:\n",
    "                    continue\n",
    "                # if c == 53:\n",
    "                if row2['district_id'] == row['district_id']:\n",
    "                    break\n",
    "                x2.loc[len(x2)] = [LineString( [(row['geometry']), (row2['geometry'])] )]\n",
    "                rec.loc[len(rec)] = [Point(row2['geometry'].x, row2['geometry'].y)]\n",
    "                break\n",
    "            break\n",
    "x2.head()"
   ]
  },
  {
   "cell_type": "code",
   "execution_count": null,
   "metadata": {
    "tags": []
   },
   "outputs": [],
   "source": [
    "cnt = 0\n",
    "x = gpd.GeoDataFrame({'geometry': []})\n",
    "for idx1, row1 in gdf.iterrows():\n",
    "    for idx2, row2 in gdf.iterrows():\n",
    "        if idx1 == idx2:\n",
    "            continue\n",
    "        if row1['district_id'] == 5 or row2['district_id'] == 5:\n",
    "            continue\n",
    "        dist = geodesic((row2['lat'],row2['lon']), (row1['lat'],row1['lon'])).km\n",
    "        if dist <= 40:\n",
    "            line = LineString( ([Point(row1['lon'], row1['lat']), Point(row2['lon'], row2['lat'])]) )\n",
    "            x.loc[len(x)] = [line]\n",
    "            cnt += 1\n",
    "print(cnt)\n",
    "x.head()\n",
    "ax3 = gplt.sankey(x, figsize=(30, 30))\n",
    "gplt.sankey(x2, ax=ax3, color=[1, 0, 0, 1])\n",
    "gplt.polyplot(district_df, ax=ax3)\n",
    "gplt.pointplot(rec, ax=ax3, color=[0, 1, 0])\n",
    "gplt.pointplot(gdf, ax=ax3)\n",
    "c = [1, 0, 0]\n",
    "gplt.pointplot(gdf_hq, ax=ax3, color=c)\n",
    "plt.rc('font', size=20)\n",
    "for idx, row in gdf.iterrows():\n",
    "    if row['district_id'] != 5:\n",
    "        plt.text(s=row['id'], x=row['lon'], y=row['lat'])\n",
    "for idx, row in district_df.iterrows():\n",
    "    pt = row['geometry'].centroid\n",
    "    lmao = pd.read_csv('../data/districts_data_v0.csv')\n",
    "    for idx, row2 in lmao.iterrows():\n",
    "        if row2['district_name'].lower() == row['distname'].lower():\n",
    "            plt.text(s=row2['district_id'], x=pt.x, y=pt.y, color=c)\n",
    "    # print(pt.x, pt.y)"
   ]
  },
  {
   "cell_type": "code",
   "execution_count": null,
   "metadata": {},
   "outputs": [],
   "source": []
  }
 ],
 "metadata": {
  "kernelspec": {
   "display_name": "Python 3.8.2 64-bit",
   "language": "python",
   "name": "python38264bit454628a45cd9489d83a0dd5d142b96e1"
  },
  "language_info": {
   "codemirror_mode": {
    "name": "ipython",
    "version": 3
   },
   "file_extension": ".py",
   "mimetype": "text/x-python",
   "name": "python",
   "nbconvert_exporter": "python",
   "pygments_lexer": "ipython3",
   "version": "3.8.5-final"
  }
 },
 "nbformat": 4,
 "nbformat_minor": 2
}