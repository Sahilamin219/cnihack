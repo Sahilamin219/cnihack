{
 "cells": [
  {
   "cell_type": "code",
   "execution_count": null,
   "metadata": {},
   "outputs": [],
   "source": [
    "import pandas as pd\n",
    "import seaborn as sns\n",
    "import geopandas as gpd\n",
    "import geoplot as gplt\n",
    "from geopy.distance import geodesic\n",
    "from shapely.geometry import Point, LineString, shape\n",
    "import matplotlib.pyplot as plt\n",
    "\n",
    "sns.set_style('whitegrid')"
   ]
  },
  {
   "cell_type": "code",
   "execution_count": null,
   "metadata": {
    "tags": []
   },
   "outputs": [],
   "source": [
    "fp = r'india-polygon.shp'\n",
    "map_df = gpd.read_file(fp)\n",
    "map_df = map_df.loc[map_df['st_nm'] == 'Karnataka']\n",
    "print(map_df)"
   ]
  },
  {
   "cell_type": "code",
   "execution_count": null,
   "metadata": {},
   "outputs": [],
   "source": [
    "data_df = pd.read_csv('lab_data_v0.csv')\n",
    "data_df.head()"
   ]
  },
  {
   "cell_type": "code",
   "execution_count": null,
   "metadata": {},
   "outputs": [],
   "source": [
    "data_df.drop(data_df.columns.difference(['lat', 'lon', 'id', 'district_id']), 1, inplace=True)\n",
    "data_df.head()"
   ]
  },
  {
   "cell_type": "code",
   "execution_count": null,
   "metadata": {},
   "outputs": [],
   "source": [
    "gdf = gpd.GeoDataFrame(data_df, geometry=gpd.points_from_xy(data_df.lon, data_df.lat))\n",
    "gdf.head()"
   ]
  },
  {
   "cell_type": "code",
   "execution_count": null,
   "metadata": {},
   "outputs": [],
   "source": [
    "ax = gplt.polyplot(map_df)\n",
    "gplt.pointplot(gdf, ax=ax)"
   ]
  },
  {
   "cell_type": "code",
   "execution_count": null,
   "metadata": {},
   "outputs": [],
   "source": [
    "gdf.head()"
   ]
  },
  {
   "cell_type": "code",
   "execution_count": null,
   "metadata": {},
   "outputs": [],
   "source": [
    "district_df = gpd.read_file('c44c9b96-f570-4ee3-97f1-ebad64efa4c2202044-1-1rb4x6s.8xx6.shp')\n",
    "district_df.head()"
   ]
  },
  {
   "cell_type": "code",
   "execution_count": null,
   "metadata": {},
   "outputs": [],
   "source": [
    "district_df = district_df.loc[district_df['statename' ] == 'KARNATAKA']\n",
    "district_df.head()"
   ]
  },
  {
   "cell_type": "code",
   "execution_count": null,
   "metadata": {
    "tags": []
   },
   "outputs": [],
   "source": [
    "cnt = 0\n",
    "x = gpd.GeoDataFrame({'geometry': []})\n",
    "for idx1, row1 in gdf.iterrows():\n",
    "    for idx2, row2 in gdf.iterrows():\n",
    "        if idx1 == idx2:\n",
    "            continue\n",
    "        if row1['district_id'] == 5 or row2['district_id'] == 5:\n",
    "            continue\n",
    "        dist = geodesic((row2['lat'],row2['lon']), (row1['lat'],row1['lon'])).km\n",
    "        if dist <= 40:\n",
    "            line = LineString( ([Point(row1['lon'], row1['lat']), Point(row2['lon'], row2['lat'])]) )\n",
    "            x.loc[len(x)] = [line]\n",
    "            cnt += 1\n",
    "print(cnt)\n",
    "x.head()\n",
    "ax3 = gplt.sankey(x, figsize=(30, 30))\n",
    "gplt.polyplot(district_df, ax=ax3)\n",
    "gplt.pointplot(gdf, ax=ax3)\n",
    "for idx, row in gdf.iterrows():\n",
    "    if row['district_id'] != 5:\n",
    "        plt.text(s=row['id'], x=row['lon'], y=row['lat'])\n"
   ]
  },
  {
   "cell_type": "code",
   "execution_count": null,
   "metadata": {},
   "outputs": [],
   "source": []
  }
 ],
 "metadata": {
  "kernelspec": {
   "display_name": "Python 3",
   "language": "python",
   "name": "python3"
  },
  "language_info": {
   "codemirror_mode": {
    "name": "ipython",
    "version": 3
   },
   "file_extension": ".py",
   "mimetype": "text/x-python",
   "name": "python",
   "nbconvert_exporter": "python",
   "pygments_lexer": "ipython3",
   "version": "3.7.4"
  }
 },
 "nbformat": 4,
 "nbformat_minor": 2
}